{
  "nbformat": 4,
  "nbformat_minor": 0,
  "metadata": {
    "colab": {
      "provenance": []
    },
    "kernelspec": {
      "name": "python3",
      "display_name": "Python 3"
    },
    "language_info": {
      "name": "python"
    }
  },
  "cells": [
    {
      "cell_type": "code",
      "source": [
        "# Install and download required packages\n",
        "import nltk\n",
        "nltk.download('punkt')\n",
        "nltk.download('stopwords')\n",
        "nltk.download('punkt_tab')  # Optional, depending on your need\n"
      ],
      "metadata": {
        "colab": {
          "base_uri": "https://localhost:8080/"
        },
        "id": "JWbC358T66jF",
        "outputId": "67bb1d21-71f5-450c-b88b-ea8106e9c5c1"
      },
      "execution_count": 2,
      "outputs": [
        {
          "output_type": "stream",
          "name": "stderr",
          "text": [
            "[nltk_data] Downloading package punkt to /root/nltk_data...\n",
            "[nltk_data]   Package punkt is already up-to-date!\n",
            "[nltk_data] Downloading package stopwords to /root/nltk_data...\n",
            "[nltk_data]   Package stopwords is already up-to-date!\n",
            "[nltk_data] Downloading package punkt_tab to /root/nltk_data...\n",
            "[nltk_data]   Package punkt_tab is already up-to-date!\n"
          ]
        },
        {
          "output_type": "execute_result",
          "data": {
            "text/plain": [
              "True"
            ]
          },
          "metadata": {},
          "execution_count": 2
        }
      ]
    },
    {
      "cell_type": "code",
      "source": [
        "# File handling and preprocessing libraries\n",
        "from google.colab import files\n",
        "import pandas as pd\n",
        "import numpy as np\n",
        "from sklearn.model_selection import train_test_split\n",
        "from sklearn.feature_extraction.text import TfidfVectorizer\n",
        "from sklearn.linear_model import LogisticRegression\n",
        "from sklearn.metrics import accuracy_score, classification_report\n",
        "from sklearn.model_selection import GridSearchCV\n",
        "import re\n",
        "from nltk.corpus import stopwords\n",
        "from nltk.tokenize import word_tokenize\n",
        "from tqdm import tqdm\n",
        "import os"
      ],
      "metadata": {
        "id": "ygJSe9xOA_QJ"
      },
      "execution_count": 3,
      "outputs": []
    },
    {
      "cell_type": "code",
      "source": [
        "# Upload .txt file(s)\n",
        "uploaded = files.upload()\n",
        "file_path = list(uploaded.keys())[0]  # Grab the first uploaded file name\n"
      ],
      "metadata": {
        "colab": {
          "base_uri": "https://localhost:8080/",
          "height": 177
        },
        "id": "u85GcVK0BJQq",
        "outputId": "44097b75-1a78-43c0-914c-b4a46386ebd7"
      },
      "execution_count": 4,
      "outputs": [
        {
          "output_type": "display_data",
          "data": {
            "text/plain": [
              "<IPython.core.display.HTML object>"
            ],
            "text/html": [
              "\n",
              "     <input type=\"file\" id=\"files-620c8cdf-829b-434c-8fd0-1ba80d5c6435\" name=\"files[]\" multiple disabled\n",
              "        style=\"border:none\" />\n",
              "     <output id=\"result-620c8cdf-829b-434c-8fd0-1ba80d5c6435\">\n",
              "      Upload widget is only available when the cell has been executed in the\n",
              "      current browser session. Please rerun this cell to enable.\n",
              "      </output>\n",
              "      <script>// Copyright 2017 Google LLC\n",
              "//\n",
              "// Licensed under the Apache License, Version 2.0 (the \"License\");\n",
              "// you may not use this file except in compliance with the License.\n",
              "// You may obtain a copy of the License at\n",
              "//\n",
              "//      http://www.apache.org/licenses/LICENSE-2.0\n",
              "//\n",
              "// Unless required by applicable law or agreed to in writing, software\n",
              "// distributed under the License is distributed on an \"AS IS\" BASIS,\n",
              "// WITHOUT WARRANTIES OR CONDITIONS OF ANY KIND, either express or implied.\n",
              "// See the License for the specific language governing permissions and\n",
              "// limitations under the License.\n",
              "\n",
              "/**\n",
              " * @fileoverview Helpers for google.colab Python module.\n",
              " */\n",
              "(function(scope) {\n",
              "function span(text, styleAttributes = {}) {\n",
              "  const element = document.createElement('span');\n",
              "  element.textContent = text;\n",
              "  for (const key of Object.keys(styleAttributes)) {\n",
              "    element.style[key] = styleAttributes[key];\n",
              "  }\n",
              "  return element;\n",
              "}\n",
              "\n",
              "// Max number of bytes which will be uploaded at a time.\n",
              "const MAX_PAYLOAD_SIZE = 100 * 1024;\n",
              "\n",
              "function _uploadFiles(inputId, outputId) {\n",
              "  const steps = uploadFilesStep(inputId, outputId);\n",
              "  const outputElement = document.getElementById(outputId);\n",
              "  // Cache steps on the outputElement to make it available for the next call\n",
              "  // to uploadFilesContinue from Python.\n",
              "  outputElement.steps = steps;\n",
              "\n",
              "  return _uploadFilesContinue(outputId);\n",
              "}\n",
              "\n",
              "// This is roughly an async generator (not supported in the browser yet),\n",
              "// where there are multiple asynchronous steps and the Python side is going\n",
              "// to poll for completion of each step.\n",
              "// This uses a Promise to block the python side on completion of each step,\n",
              "// then passes the result of the previous step as the input to the next step.\n",
              "function _uploadFilesContinue(outputId) {\n",
              "  const outputElement = document.getElementById(outputId);\n",
              "  const steps = outputElement.steps;\n",
              "\n",
              "  const next = steps.next(outputElement.lastPromiseValue);\n",
              "  return Promise.resolve(next.value.promise).then((value) => {\n",
              "    // Cache the last promise value to make it available to the next\n",
              "    // step of the generator.\n",
              "    outputElement.lastPromiseValue = value;\n",
              "    return next.value.response;\n",
              "  });\n",
              "}\n",
              "\n",
              "/**\n",
              " * Generator function which is called between each async step of the upload\n",
              " * process.\n",
              " * @param {string} inputId Element ID of the input file picker element.\n",
              " * @param {string} outputId Element ID of the output display.\n",
              " * @return {!Iterable<!Object>} Iterable of next steps.\n",
              " */\n",
              "function* uploadFilesStep(inputId, outputId) {\n",
              "  const inputElement = document.getElementById(inputId);\n",
              "  inputElement.disabled = false;\n",
              "\n",
              "  const outputElement = document.getElementById(outputId);\n",
              "  outputElement.innerHTML = '';\n",
              "\n",
              "  const pickedPromise = new Promise((resolve) => {\n",
              "    inputElement.addEventListener('change', (e) => {\n",
              "      resolve(e.target.files);\n",
              "    });\n",
              "  });\n",
              "\n",
              "  const cancel = document.createElement('button');\n",
              "  inputElement.parentElement.appendChild(cancel);\n",
              "  cancel.textContent = 'Cancel upload';\n",
              "  const cancelPromise = new Promise((resolve) => {\n",
              "    cancel.onclick = () => {\n",
              "      resolve(null);\n",
              "    };\n",
              "  });\n",
              "\n",
              "  // Wait for the user to pick the files.\n",
              "  const files = yield {\n",
              "    promise: Promise.race([pickedPromise, cancelPromise]),\n",
              "    response: {\n",
              "      action: 'starting',\n",
              "    }\n",
              "  };\n",
              "\n",
              "  cancel.remove();\n",
              "\n",
              "  // Disable the input element since further picks are not allowed.\n",
              "  inputElement.disabled = true;\n",
              "\n",
              "  if (!files) {\n",
              "    return {\n",
              "      response: {\n",
              "        action: 'complete',\n",
              "      }\n",
              "    };\n",
              "  }\n",
              "\n",
              "  for (const file of files) {\n",
              "    const li = document.createElement('li');\n",
              "    li.append(span(file.name, {fontWeight: 'bold'}));\n",
              "    li.append(span(\n",
              "        `(${file.type || 'n/a'}) - ${file.size} bytes, ` +\n",
              "        `last modified: ${\n",
              "            file.lastModifiedDate ? file.lastModifiedDate.toLocaleDateString() :\n",
              "                                    'n/a'} - `));\n",
              "    const percent = span('0% done');\n",
              "    li.appendChild(percent);\n",
              "\n",
              "    outputElement.appendChild(li);\n",
              "\n",
              "    const fileDataPromise = new Promise((resolve) => {\n",
              "      const reader = new FileReader();\n",
              "      reader.onload = (e) => {\n",
              "        resolve(e.target.result);\n",
              "      };\n",
              "      reader.readAsArrayBuffer(file);\n",
              "    });\n",
              "    // Wait for the data to be ready.\n",
              "    let fileData = yield {\n",
              "      promise: fileDataPromise,\n",
              "      response: {\n",
              "        action: 'continue',\n",
              "      }\n",
              "    };\n",
              "\n",
              "    // Use a chunked sending to avoid message size limits. See b/62115660.\n",
              "    let position = 0;\n",
              "    do {\n",
              "      const length = Math.min(fileData.byteLength - position, MAX_PAYLOAD_SIZE);\n",
              "      const chunk = new Uint8Array(fileData, position, length);\n",
              "      position += length;\n",
              "\n",
              "      const base64 = btoa(String.fromCharCode.apply(null, chunk));\n",
              "      yield {\n",
              "        response: {\n",
              "          action: 'append',\n",
              "          file: file.name,\n",
              "          data: base64,\n",
              "        },\n",
              "      };\n",
              "\n",
              "      let percentDone = fileData.byteLength === 0 ?\n",
              "          100 :\n",
              "          Math.round((position / fileData.byteLength) * 100);\n",
              "      percent.textContent = `${percentDone}% done`;\n",
              "\n",
              "    } while (position < fileData.byteLength);\n",
              "  }\n",
              "\n",
              "  // All done.\n",
              "  yield {\n",
              "    response: {\n",
              "      action: 'complete',\n",
              "    }\n",
              "  };\n",
              "}\n",
              "\n",
              "scope.google = scope.google || {};\n",
              "scope.google.colab = scope.google.colab || {};\n",
              "scope.google.colab._files = {\n",
              "  _uploadFiles,\n",
              "  _uploadFilesContinue,\n",
              "};\n",
              "})(self);\n",
              "</script> "
            ]
          },
          "metadata": {}
        },
        {
          "output_type": "stream",
          "name": "stdout",
          "text": [
            "Saving train_data.txt to train_data (1).txt\n",
            "Saving test_data.txt to test_data.txt\n",
            "Saving test_data_solution.txt to test_data_solution.txt\n",
            "Saving description.txt to description.txt\n"
          ]
        }
      ]
    },
    {
      "cell_type": "code",
      "source": [
        "def load_and_clean_data(file_path):\n",
        "    # Read .txt file with ::: separator (like a CSV but with custom delimiter)\n",
        "    data = pd.read_csv(file_path, sep=':::', engine='python', names=['id', 'title', 'genre', 'plot_summary'])\n",
        "\n",
        "    stop_words = set(stopwords.words('english'))\n",
        "\n",
        "    def clean_text(text):\n",
        "        text = re.sub(r'[^a-zA-Z\\s]', '', str(text))\n",
        "        text = text.lower()\n",
        "        tokens = word_tokenize(text)\n",
        "        tokens = [word for word in tokens if word not in stop_words]\n",
        "        return ' '.join(tokens)\n",
        "\n",
        "    print(\"Cleaning plot summaries...\")\n",
        "    data['cleaned_plot'] = [clean_text(text) for text in tqdm(data['plot_summary'], desc=\"Progress\")]\n",
        "    return data['cleaned_plot'], data['genre']\n"
      ],
      "metadata": {
        "id": "rflZELmnDI27"
      },
      "execution_count": 5,
      "outputs": []
    },
    {
      "cell_type": "code",
      "source": [
        "def compute_class_weights(labels):\n",
        "    unique_labels, counts = np.unique(labels, return_counts=True)\n",
        "    total_samples = len(labels)\n",
        "    class_weights = {label: total_samples / (len(unique_labels) * count) for label, count in zip(unique_labels, counts)}\n",
        "    return class_weights\n"
      ],
      "metadata": {
        "id": "-Gv5ZDLuDNyN"
      },
      "execution_count": 6,
      "outputs": []
    },
    {
      "cell_type": "code",
      "source": [
        "def train_optimized_model(texts, labels):\n",
        "    print(\"Transforming text to TF-IDF features...\")\n",
        "    tfidf = TfidfVectorizer(max_features=10000, ngram_range=(1, 2))\n",
        "    X = tfidf.fit_transform(tqdm(texts, desc=\"TF-IDF progress\"))\n",
        "\n",
        "    X_train, X_test, y_train, y_test = train_test_split(X, labels, test_size=0.2, random_state=42)\n",
        "\n",
        "    class_weights = compute_class_weights(y_train)\n",
        "\n",
        "    base_model = LogisticRegression(max_iter=1000, class_weight=class_weights)\n",
        "\n",
        "    param_grid = {\n",
        "        'C': [0.1, 1.0, 10.0],\n",
        "        'solver': ['lbfgs', 'liblinear']\n",
        "    }\n",
        "\n",
        "    print(\"Starting Grid Search...\")\n",
        "    grid_search = GridSearchCV(base_model, param_grid, cv=5, scoring='accuracy', verbose=1)\n",
        "    grid_search.fit(X_train, y_train)\n",
        "\n",
        "    best_model = grid_search.best_estimator_\n",
        "    print(f\"Best parameters: {grid_search.best_params_}\")\n",
        "\n",
        "    y_pred = best_model.predict(X_test)\n",
        "    print(\"Accuracy:\", accuracy_score(y_test, y_pred))\n",
        "    print(\"Classification Report:\\n\", classification_report(y_test, y_pred))\n",
        "\n",
        "    return best_model, tfidf\n"
      ],
      "metadata": {
        "id": "2J98pqQGDRNz"
      },
      "execution_count": 7,
      "outputs": []
    },
    {
      "cell_type": "code",
      "source": [
        "def predict_genre(model, tfidf, new_plot):\n",
        "    stop_words = set(stopwords.words('english'))\n",
        "    cleaned_plot = re.sub(r'[^a-zA-Z\\s]', '', new_plot.lower())\n",
        "    tokens = word_tokenize(cleaned_plot)\n",
        "    tokens = [word for word in tokens if word not in stop_words]\n",
        "    plot_tfidf = tfidf.transform([' '.join(tokens)])\n",
        "    prediction = model.predict(plot_tfidf)\n",
        "    return prediction[0]\n"
      ],
      "metadata": {
        "id": "kjHYcO0pDWFv"
      },
      "execution_count": 8,
      "outputs": []
    },
    {
      "cell_type": "code",
      "source": [
        "print(\"Loading and preprocessing data...\")\n",
        "texts, labels = load_and_clean_data(file_path)\n",
        "\n",
        "print(\"\\nGenre distribution:\")\n",
        "print(labels.value_counts())\n",
        "\n",
        "print(\"\\nTransforming text into TF-IDF features...\")\n",
        "tfidf = TfidfVectorizer(max_features=3000, ngram_range=(1, 1))\n",
        "X = tfidf.fit_transform(tqdm(texts, desc=\"TF-IDF progress\"))\n",
        "\n",
        "X_train, X_test, y_train, y_test = train_test_split(X, labels, test_size=0.2, random_state=42)\n",
        "\n",
        "print(\"\\nTraining Logistic Regression model (no grid search)...\")\n",
        "model = LogisticRegression(max_iter=500, solver='liblinear', class_weight='balanced')\n",
        "model.fit(X_train, y_train)\n",
        "\n",
        "y_pred = model.predict(X_test)\n",
        "print(\"Accuracy:\", accuracy_score(y_test, y_pred))\n",
        "print(\"Classification Report:\\n\", classification_report(y_test, y_pred))\n",
        "\n",
        "print(\"\\nPredicting genre for a new plot...\")\n",
        "new_plot = \"Superhero murder mistry\"\n",
        "predicted_genre = predict_genre(model, tfidf, new_plot)\n",
        "print(f\"Predicted Genre: {predicted_genre}\")\n",
        "\n"
      ],
      "metadata": {
        "colab": {
          "base_uri": "https://localhost:8080/"
        },
        "id": "yn4b3XF8DZUP",
        "outputId": "1f61735e-c147-4d5c-c01f-5e59741b273a"
      },
      "execution_count": 13,
      "outputs": [
        {
          "output_type": "stream",
          "name": "stdout",
          "text": [
            "Loading and preprocessing data...\n",
            "Cleaning plot summaries...\n"
          ]
        },
        {
          "output_type": "stream",
          "name": "stderr",
          "text": [
            "Progress: 100%|██████████| 54214/54214 [00:22<00:00, 2447.19it/s]\n"
          ]
        },
        {
          "output_type": "stream",
          "name": "stdout",
          "text": [
            "\n",
            "Genre distribution:\n",
            "genre\n",
            "drama           13613\n",
            "documentary     13096\n",
            "comedy           7447\n",
            "short            5073\n",
            "horror           2204\n",
            "thriller         1591\n",
            "action           1315\n",
            "western          1032\n",
            "reality-tv        884\n",
            "family            784\n",
            "adventure         775\n",
            "music             731\n",
            "romance           672\n",
            "sci-fi            647\n",
            "adult             590\n",
            "crime             505\n",
            "animation         498\n",
            "sport             432\n",
            "talk-show         391\n",
            "fantasy           323\n",
            "mystery           319\n",
            "musical           277\n",
            "biography         265\n",
            "history           243\n",
            "game-show         194\n",
            "news              181\n",
            "war               132\n",
            "Name: count, dtype: int64\n",
            "\n",
            "Transforming text into TF-IDF features...\n"
          ]
        },
        {
          "output_type": "stream",
          "name": "stderr",
          "text": [
            "TF-IDF progress: 100%|██████████| 54214/54214 [00:02<00:00, 24155.78it/s]\n"
          ]
        },
        {
          "output_type": "stream",
          "name": "stdout",
          "text": [
            "\n",
            "Training Logistic Regression model (no grid search)...\n",
            "Accuracy: 0.4987549571151895\n",
            "Classification Report:\n",
            "                precision    recall  f1-score   support\n",
            "\n",
            "      action        0.33      0.41      0.37       263\n",
            "       adult        0.32      0.64      0.42       112\n",
            "   adventure        0.14      0.23      0.17       139\n",
            "   animation        0.17      0.26      0.20       104\n",
            "   biography        0.04      0.08      0.05        61\n",
            "      comedy        0.60      0.44      0.51      1443\n",
            "       crime        0.15      0.36      0.21       107\n",
            " documentary        0.77      0.68      0.72      2659\n",
            "       drama        0.68      0.47      0.56      2697\n",
            "      family        0.15      0.27      0.19       150\n",
            "     fantasy        0.09      0.18      0.12        74\n",
            "   game-show        0.62      0.72      0.67        40\n",
            "     history        0.06      0.18      0.09        45\n",
            "      horror        0.52      0.67      0.59       431\n",
            "       music        0.43      0.72      0.54       144\n",
            "     musical        0.10      0.26      0.14        50\n",
            "     mystery        0.07      0.20      0.11        56\n",
            "        news        0.11      0.24      0.15        34\n",
            "  reality-tv        0.34      0.58      0.43       192\n",
            "     romance        0.11      0.23      0.15       151\n",
            "      sci-fi        0.29      0.46      0.36       143\n",
            "       short        0.49      0.31      0.38      1045\n",
            "       sport        0.31      0.62      0.42        93\n",
            "   talk-show        0.25      0.47      0.33        81\n",
            "    thriller        0.28      0.27      0.27       309\n",
            "         war        0.10      0.35      0.16        20\n",
            "     western        0.64      0.82      0.72       200\n",
            "\n",
            "     accuracy                           0.50     10843\n",
            "    macro avg       0.30      0.41      0.33     10843\n",
            " weighted avg       0.57      0.50      0.52     10843\n",
            "\n",
            "\n",
            "Predicting genre for a new plot...\n",
            "Predicted Genre:  mystery \n"
          ]
        }
      ]
    }
  ]
}